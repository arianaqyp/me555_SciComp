{
 "cells": [
  {
   "cell_type": "code",
   "execution_count": 1,
   "metadata": {},
   "outputs": [
    {
     "name": "stdout",
     "output_type": "stream",
     "text": [
      "\n",
      "Number of iterations = 20\n",
      "\n",
      "Relaxation factor = 1.1430956678289617\n",
      "\n",
      "The solution is:\n",
      " [ 2. -1.  1.]\n"
     ]
    },
    {
     "data": {
      "text/plain": [
       "''"
      ]
     },
     "execution_count": 1,
     "metadata": {},
     "output_type": "execute_result"
    }
   ],
   "source": [
    "#Breakout Task\n",
    "#First make sure the gaussSeidel.py file is located in the same directory as this routine\n",
    "#The code won't run until you uncomment the 3 lines in the iterEqs function and complete them, so\n",
    "# they are consistent with the update \n",
    "# u_{k+1} = (1 - \\omega) u_k + \\omega * (4 - v_k + w_k)/ 3\n",
    "# v_{k+1} = (1 - \\omega) v_k + \\omega * (1 - 2 u_{k+1} - w_k)/4\n",
    "# w_{k+1} = (1 - \\omega) w_k + \\omega * (1 + u_{k+1} - 2 v_{k+1} )/5\n",
    "\n",
    "import numpy as numpy\n",
    "from gaussSeidel import *\n",
    "\n",
    "def iterEqs(x,omega): \n",
    "    x[0] = (1 - omega) * x[0] + omega * (4 - x[1] + x[2])/3\n",
    "    x[1] = (1 - omega) * x[1] + omega * (1 - 2 * x[0] - x[2])/4\n",
    "    x[2] = (1 - omega) * x[2] + omega * (1 + x[0] - 2 * x[1])/5\n",
    "    return x\n",
    "\n",
    "x = np.array([0.0,0.0,0.0])\n",
    "\n",
    "x,numIter,omega = gaussSeidel(iterEqs,x)\n",
    "print(\"\\nNumber of iterations =\",numIter)\n",
    "print(\"\\nRelaxation factor =\",omega)\n",
    "print(\"\\nThe solution is:\\n\",x)\n",
    "input(\"\\nPress return to exit\")"
   ]
  },
  {
   "cell_type": "code",
   "execution_count": null,
   "metadata": {},
   "outputs": [],
   "source": []
  }
 ],
 "metadata": {
  "kernelspec": {
   "display_name": "pce_env",
   "language": "python",
   "name": "python3"
  },
  "language_info": {
   "codemirror_mode": {
    "name": "ipython",
    "version": 3
   },
   "file_extension": ".py",
   "mimetype": "text/x-python",
   "name": "python",
   "nbconvert_exporter": "python",
   "pygments_lexer": "ipython3",
   "version": "3.10.12"
  },
  "orig_nbformat": 4
 },
 "nbformat": 4,
 "nbformat_minor": 2
}
