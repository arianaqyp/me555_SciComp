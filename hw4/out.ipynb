{
 "cells": [
  {
   "cell_type": "markdown",
   "metadata": {},
   "source": [
    "## Question 1"
   ]
  },
  {
   "cell_type": "code",
   "execution_count": 1,
   "metadata": {},
   "outputs": [],
   "source": [
    "import numpy as np\n",
    "import scipy as sp\n",
    "import networkx as nx\n",
    "import matplotlib.pyplot as plt\n",
    "import copy"
   ]
  },
  {
   "cell_type": "code",
   "execution_count": 2,
   "metadata": {},
   "outputs": [],
   "source": [
    "## functions\n",
    "def getMaxEigenPair(G, niter=100):\n",
    "    n=G.shape[0]\n",
    "    x = np.ones((n,1)).reshape(n,1)\n",
    "    # print(\"shape of x is: \", x.shape)\n",
    "    i=0\n",
    "    for i in range(niter):\n",
    "        # print(\"Curr x is: \\n\", x)\n",
    "        p = x/sp.linalg.norm(x)\n",
    "        x = G @ p\n",
    "        eigenVal = p.T @ (G @ p)\n",
    "    return p, eigenVal"
   ]
  },
  {
   "cell_type": "code",
   "execution_count": 3,
   "metadata": {},
   "outputs": [],
   "source": [
    "# create the A matrix (adjacency matrix) of 11x11\n",
    "A = np.array([[1, 0, 0, 1, 0, 0, 0, 0, 0, 0, 0],\n",
    "              [0, 0, 1, 1, 1, 1, 1, 1, 1, 0, 0],\n",
    "              [0, 1, 0, 0, 0, 0, 0, 0, 0, 0, 0],\n",
    "              [0, 0, 0, 0, 1, 0, 0, 0, 0, 0, 0],\n",
    "              [0, 0, 0, 0, 0, 1, 1, 1, 1, 1, 1],\n",
    "              [0, 0, 0, 0, 1, 0, 0, 0, 0, 0, 0],\n",
    "              [0, 0, 0, 0, 0, 0, 0, 0, 0, 0, 0],\n",
    "              [0, 0, 0, 0, 0, 0, 0, 0, 0, 0, 0],\n",
    "              [0, 0, 0, 0, 0, 0, 0, 0, 0, 0, 0],\n",
    "              [0, 0, 0, 0, 0, 0, 0, 0, 0, 0, 0],\n",
    "              [0, 0, 0, 0, 0, 0, 0, 0, 0, 0, 0]])\n",
    "\n",
    "# create the D matrix (degree matrix) of 11x11\n",
    "D = np.diag(np.sum(A, axis=0))\n",
    "# print(D)"
   ]
  },
  {
   "cell_type": "code",
   "execution_count": 4,
   "metadata": {},
   "outputs": [
    {
     "data": {
      "image/png": "[encoded data removed]",
      "text/plain": [
       "<Figure size 500x300 with 1 Axes>"
      ]
     },
     "metadata": {},
     "output_type": "display_data"
    }
   ],
   "source": [
    "# plot a directed graph with labels given the A matrix\n",
    "GraphA = nx.DiGraph()\n",
    "# for each column, we add an edge from the column to row\n",
    "for i in range(A.shape[1]):\n",
    "    column = A[:, i]\n",
    "    for j in range(len(column)):\n",
    "        if column[j] == 1:\n",
    "            GraphA.add_edges_from([(i, j)])\n",
    "\n",
    "# create a dictionary of labels\n",
    "labels = dict(zip(GraphA.nodes(), [\"A\", \"B\", \"C\", \"D\", \"E\", \"F\", \"G1\", \"G2\", \"G3\", \"G4\", \"G5\"]))\n",
    "# draw\n",
    "plt.figure(figsize=(5, 3))\n",
    "nx.draw(GraphA, labels=labels, with_labels=True)"
   ]
  },
  {
   "cell_type": "code",
   "execution_count": 5,
   "metadata": {},
   "outputs": [],
   "source": [
    "# define parameters\n",
    "q = 0.85\n",
    "N = A.shape[1]\n",
    "E = np.ones((N, N))\n",
    "\n",
    "# create the G matrix (transition matrix) (normalized)\n",
    "G = ( (1 - q)/N ) * E + q * (A @ np.linalg.inv(D))\n",
    "G[0, 0] = (1-q)/N"
   ]
  },
  {
   "cell_type": "markdown",
   "metadata": {},
   "source": [
    "(a) Using q = 0.85, estimate the PageRank vector for this network using the power iteration alg.\n",
    "\n",
    "(b) Relative rank of the pages."
   ]
  },
  {
   "cell_type": "code",
   "execution_count": 6,
   "metadata": {},
   "outputs": [
    {
     "name": "stdout",
     "output_type": "stream",
     "text": [
      "The PR vector is: \n",
      " [[0.05339977 0.72903043 0.66102845 0.06379769 0.13148509 0.06379769\n",
      "  0.02559634 0.02559634 0.02559634 0.02559634 0.02559634]]\n",
      "The sorted PR vector is: \n",
      " [[0.72903043 0.66102845 0.13148509 0.06379769 0.06379769 0.05339977\n",
      "  0.02559634 0.02559634 0.02559634 0.02559634 0.02559634]]\n",
      "The labels in desc. order of vector magnitude: \n",
      " ['B' 'C' 'E' 'D' 'F' 'A' 'G5' 'G3' 'G4' 'G2' 'G1']\n"
     ]
    }
   ],
   "source": [
    "p, eigenVal = getMaxEigenPair(G, niter=1000)\n",
    "print(\"The PR vector is: \\n\", p.T)\n",
    "\n",
    "# sort the PR vector with argsort with descending order\n",
    "p_ids = np.argsort(p.squeeze(), axis=0)[::-1]\n",
    "labels = [\"A\", \"B\", \"C\", \"D\", \"E\", \"F\", \"G1\", \"G2\", \"G3\", \"G4\", \"G5\"]\n",
    "print(\"The sorted PR vector is: \\n\", p[p_ids].T)\n",
    "print(\"The labels in desc. order of vector magnitude: \\n\", np.array(labels)[p_ids])"
   ]
  },
  {
   "cell_type": "markdown",
   "metadata": {},
   "source": [
    "(c) Do the relative ranks make sense? Explain.\n",
    "\n",
    "Ans:\n",
    "\n",
    "Since the page ranks does not simply depend on the number of inward-pointing links to the page, but the \"importance\" by its own method of calculating the metric. So yes, that makes sense. by just looking at the number of arrows in and out of the \"page\""
   ]
  },
  {
   "cell_type": "markdown",
   "metadata": {},
   "source": [
    "(d) Connect a link going from B to on the small purple pages and recompute the PageRank vector. Comment on your observations and explain the result."
   ]
  },
  {
   "cell_type": "code",
   "execution_count": 7,
   "metadata": {},
   "outputs": [],
   "source": [
    "# connect a link from B to g5\n",
    "# create the A matrix (adjacency matrix) of 11x11\n",
    "A_mod = np.array([[1, 0, 0, 1, 0, 0, 0, 0, 0, 0, 0],\n",
    "                [0, 0, 1, 1, 1, 1, 1, 1, 1, 0, 0],\n",
    "                [0, 1, 0, 0, 0, 0, 0, 0, 0, 0, 0],\n",
    "                [0, 0, 0, 0, 1, 0, 0, 0, 0, 0, 0],\n",
    "                [0, 0, 0, 0, 0, 1, 1, 1, 1, 1, 1],\n",
    "                [0, 0, 0, 0, 1, 0, 0, 0, 0, 0, 0],\n",
    "                [0, 0, 0, 0, 0, 0, 0, 0, 0, 0, 0],\n",
    "                [0, 0, 0, 0, 0, 0, 0, 0, 0, 0, 0],\n",
    "                [0, 0, 0, 0, 0, 0, 0, 0, 0, 0, 0],\n",
    "                [0, 0, 0, 0, 0, 0, 0, 0, 0, 0, 0],\n",
    "                [0, 1, 0, 0, 0, 0, 0, 0, 0, 0, 0]])\n",
    "\n",
    "# create the D matrix (degree matrix) of 11x11\n",
    "D_mod = np.diag(np.sum(A_mod, axis=0))"
   ]
  },
  {
   "cell_type": "code",
   "execution_count": 8,
   "metadata": {},
   "outputs": [
    {
     "name": "stdout",
     "output_type": "stream",
     "text": [
      "The PR vector is: \n",
      " [[0.11341857 0.67751646 0.33443482 0.17802125 0.4860343  0.17802125\n",
      "  0.03464787 0.03464787 0.03464787 0.03464787 0.33443482]]\n",
      "The sorted PR vector is: \n",
      " [[0.67751646 0.4860343  0.33443482 0.33443482 0.17802125 0.17802125\n",
      "  0.11341857 0.03464787 0.03464787 0.03464787 0.03464787]]\n",
      "The labels in desc. order of vector magnitude: \n",
      " ['B' 'E' 'G5' 'C' 'F' 'D' 'A' 'G3' 'G4' 'G2' 'G1']\n"
     ]
    }
   ],
   "source": [
    "# define parameters\n",
    "q = 0.85\n",
    "N = A_mod.shape[1]\n",
    "E = np.ones((N, N))\n",
    "\n",
    "# create the G matrix (transition matrix) (normalized)\n",
    "G = ( (1 - q)/N ) * E + q * (A_mod @ np.linalg.inv(D_mod))\n",
    "G[0, 0] = (1-q)/N\n",
    "\n",
    "p, eigenVal = getMaxEigenPair(G, niter=100)\n",
    "print(\"The PR vector is: \\n\", p.T)\n",
    "\n",
    "# sort the PR vector with argsort with descending order\n",
    "p_ids = np.argsort(p.squeeze(), axis=0)[::-1]\n",
    "labels = [\"A\", \"B\", \"C\", \"D\", \"E\", \"F\", \"G1\", \"G2\", \"G3\", \"G4\", \"G5\"]\n",
    "print(\"The sorted PR vector is: \\n\", p[p_ids].T)\n",
    "print(\"The labels in desc. order of vector magnitude: \\n\", np.array(labels)[p_ids])"
   ]
  },
  {
   "cell_type": "markdown",
   "metadata": {},
   "source": [
    "Hypothesis:\n",
    "\n",
    "We see the importance of g5 jumping up in rank. This could be due to the action of B (being a more important page) citing g5 (a less important page), which makes g5 be more \"credible\", hence moving up in rank."
   ]
  },
  {
   "cell_type": "markdown",
   "metadata": {},
   "source": [
    "## Question 3"
   ]
  },
  {
   "cell_type": "code",
   "execution_count": 9,
   "metadata": {},
   "outputs": [],
   "source": [
    "A = np.array([[10, 1, 2],\n",
    "              [1, 10, 3],\n",
    "              [2, 3, 20]])\n",
    "\n",
    "M = np.array([[100, -25, -20],\n",
    "              [-25, 10, 4],\n",
    "              [-20, 4, 100]])"
   ]
  },
  {
   "cell_type": "markdown",
   "metadata": {},
   "source": [
    "(a) Estimate the largest eigval. of (1) using your power iter. code."
   ]
  },
  {
   "cell_type": "code",
   "execution_count": 29,
   "metadata": {},
   "outputs": [],
   "source": [
    "# we solve M^-1 * A * x = lambda * x\n",
    "def getMaxEigenPair_Gen(A, M, niter=20000):\n",
    "    n = A.shape[0]\n",
    "    x = np.ones((n, 1)).reshape(n, 1)\n",
    "    lu, piv = sp.linalg.lu_factor(M)\n",
    "    for i in range(niter):\n",
    "        p = x / sp.linalg.norm(x)\n",
    "        # solve for x in M * x = A * p with LU factorization\n",
    "        x = sp.linalg.lu_solve((lu, piv), A @ p)\n",
    "        eigenVal = p.T @ (A @ p) / (p.T @ (M @ p)) \n",
    "    return p, eigenVal"
   ]
  },
  {
   "cell_type": "code",
   "execution_count": 31,
   "metadata": {},
   "outputs": [
    {
     "name": "stdout",
     "output_type": "stream",
     "text": [
      "Dominant eigenvalue is:  (3.030198931509619+0j)\n",
      "Dominant eigenvector is:  [0.25851672 0.9656551  0.02606401]\n",
      "PowerIter EigVal: \n",
      " [[3.03019893]]\n",
      "PowerIter EigVec: \n",
      " [[0.25851672 0.9656551  0.02606401]]\n"
     ]
    }
   ],
   "source": [
    "eigs = sp.linalg.eig(A, M)\n",
    "print(\"Dominant eigenvalue is: \", eigs[0][0])\n",
    "print(\"Dominant eigenvector is: \", eigs[1][:, 0])\n",
    "p, eigenVal = getMaxEigenPair_Gen(A, M)\n",
    "print(\"PowerIter EigVal: \\n\", eigenVal)\n",
    "print(\"PowerIter EigVec: \\n\", p.T)"
   ]
  },
  {
   "cell_type": "markdown",
   "metadata": {},
   "source": [
    "(c) show numerically that A and M are positive definite."
   ]
  },
  {
   "cell_type": "code",
   "execution_count": 12,
   "metadata": {},
   "outputs": [
    {
     "name": "stdout",
     "output_type": "stream",
     "text": [
      "Eigenvalues of A are:  [21.25920382+0.j  9.83812249+0.j  8.90267369+0.j]\n",
      "Eigenvalues of M are:  [  3.5076778 +0.j 123.86358858+0.j  82.62873362+0.j]\n",
      "A is positive definite:  True\n",
      "M is positive definite:  True\n"
     ]
    }
   ],
   "source": [
    "# A matrix is positive definite if and only if all of its eigenvalues are positive.\n",
    "eigs = sp.linalg.eig(A)\n",
    "print(\"Eigenvalues of A are: \", eigs[0])\n",
    "eigs = sp.linalg.eig(M)\n",
    "print(\"Eigenvalues of M are: \", eigs[0])\n",
    "\n",
    "print(\"A is positive definite: \", np.all(eigs[0] > 0))\n",
    "print(\"M is positive definite: \", np.all(eigs[0] > 0))"
   ]
  }
 ],
 "metadata": {
  "kernelspec": {
   "display_name": "scicomp",
   "language": "python",
   "name": "python3"
  },
  "language_info": {
   "codemirror_mode": {
    "name": "ipython",
    "version": 3
   },
   "file_extension": ".py",
   "mimetype": "text/x-python",
   "name": "python",
   "nbconvert_exporter": "python",
   "pygments_lexer": "ipython3",
   "version": "3.11.5"
  },
  "orig_nbformat": 4
 },
 "nbformat": 4,
 "nbformat_minor": 2
}
