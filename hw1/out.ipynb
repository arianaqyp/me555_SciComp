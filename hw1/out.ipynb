{
 "cells": [
  {
   "cell_type": "markdown",
   "metadata": {},
   "source": [
    "3. Find the LU factorization of the following matrix:\n",
    "\n",
    "\\[1 −1 1 0,\n",
    "0 2 1 0,\n",
    "1 3 4 4,\n",
    "0 2 1 −1 \\]\n",
    "\n",
    "Complete it on paper first, and then check your result against the python code\n",
    "LUdecomp.py. \n",
    "To this end, write a small Python script to input the matrix,\n",
    "call the LUdecomp function, and print the result to the screen. Submit\n",
    "this piece of code as a separate file along with the upload of the rest of the\n",
    "assignment."
   ]
  },
  {
   "cell_type": "code",
   "execution_count": null,
   "metadata": {},
   "outputs": [],
   "source": []
  }
 ],
 "metadata": {
  "kernelspec": {
   "display_name": "pce_env",
   "language": "python",
   "name": "python3"
  },
  "language_info": {
   "name": "python",
   "version": "3.10.12"
  },
  "orig_nbformat": 4
 },
 "nbformat": 4,
 "nbformat_minor": 2
}
