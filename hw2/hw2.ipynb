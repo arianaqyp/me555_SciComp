{
 "cells": [
  {
   "cell_type": "code",
   "execution_count": 1,
   "metadata": {},
   "outputs": [],
   "source": [
    "import numpy as np\n",
    "import matplotlib.pyplot as plt\n",
    "import pandas as pd"
   ]
  },
  {
   "cell_type": "markdown",
   "metadata": {},
   "source": [
    "## Question 1"
   ]
  },
  {
   "cell_type": "code",
   "execution_count": 2,
   "metadata": {},
   "outputs": [],
   "source": [
    "# functions for problem 1\n",
    "def buildHilbertMatrix(N):\n",
    "    H  = np.zeros((N,N))\n",
    "    for i in range(N):\n",
    "        for j in range(N):\n",
    "            H[i,j] = 1/( (i+1) + (j+1) -1 )\n",
    "    return H\n",
    "\n",
    "# calculate the condition number of a matrix\n",
    "def conditionNumber(A):\n",
    "    return np.linalg.cond(A)"
   ]
  },
  {
   "cell_type": "code",
   "execution_count": 3,
   "metadata": {},
   "outputs": [
    {
     "name": "stdout",
     "output_type": "stream",
     "text": [
      "N =  6\n",
      "Hilbert Matrix\n",
      "[[1.         0.5        0.33333333 0.25       0.2        0.16666667]\n",
      " [0.5        0.33333333 0.25       0.2        0.16666667 0.14285714]\n",
      " [0.33333333 0.25       0.2        0.16666667 0.14285714 0.125     ]\n",
      " [0.25       0.2        0.16666667 0.14285714 0.125      0.11111111]\n",
      " [0.2        0.16666667 0.14285714 0.125      0.11111111 0.1       ]\n",
      " [0.16666667 0.14285714 0.125      0.11111111 0.1        0.09090909]]\n",
      "Condition number:  14951058.641453395\n",
      "\n",
      "N =  10\n",
      "Hilbert Matrix\n",
      "[[1.         0.5        0.33333333 0.25       0.2        0.16666667\n",
      "  0.14285714 0.125      0.11111111 0.1       ]\n",
      " [0.5        0.33333333 0.25       0.2        0.16666667 0.14285714\n",
      "  0.125      0.11111111 0.1        0.09090909]\n",
      " [0.33333333 0.25       0.2        0.16666667 0.14285714 0.125\n",
      "  0.11111111 0.1        0.09090909 0.08333333]\n",
      " [0.25       0.2        0.16666667 0.14285714 0.125      0.11111111\n",
      "  0.1        0.09090909 0.08333333 0.07692308]\n",
      " [0.2        0.16666667 0.14285714 0.125      0.11111111 0.1\n",
      "  0.09090909 0.08333333 0.07692308 0.07142857]\n",
      " [0.16666667 0.14285714 0.125      0.11111111 0.1        0.09090909\n",
      "  0.08333333 0.07692308 0.07142857 0.06666667]\n",
      " [0.14285714 0.125      0.11111111 0.1        0.09090909 0.08333333\n",
      "  0.07692308 0.07142857 0.06666667 0.0625    ]\n",
      " [0.125      0.11111111 0.1        0.09090909 0.08333333 0.07692308\n",
      "  0.07142857 0.06666667 0.0625     0.05882353]\n",
      " [0.11111111 0.1        0.09090909 0.08333333 0.07692308 0.07142857\n",
      "  0.06666667 0.0625     0.05882353 0.05555556]\n",
      " [0.1        0.09090909 0.08333333 0.07692308 0.07142857 0.06666667\n",
      "  0.0625     0.05882353 0.05555556 0.05263158]]\n",
      "Condition number:  16024917070135.055\n",
      "\n"
     ]
    }
   ],
   "source": [
    "N_list = [6, 10]\n",
    "for N in N_list:\n",
    "    H = buildHilbertMatrix(N)\n",
    "    print(\"N = \", N)\n",
    "    print(\"Hilbert Matrix\")\n",
    "    print(H)\n",
    "    print(\"Condition number: \", conditionNumber(H))\n",
    "    print(\"\")"
   ]
  },
  {
   "cell_type": "markdown",
   "metadata": {},
   "source": [
    "## Question 2\n",
    "\n",
    "Now let’s see how this condition number impacts the accuracy of solving a system of equations with the Hilbert matrix. Let’s set up a problem to solve where the exact solution is known and simple, namely where x is just an array of ones. We can then compute a right-hand side vector as b = Hx. Using b, calculate xa by using the solve function from the numpy.linalg module. Compare the approximate solution you get to the exact solution of ones for N = 6 and N = 10. Does the number of accurate digits in the solution change with the condition number you found in problem 2 as expected?"
   ]
  },
  {
   "cell_type": "code",
   "execution_count": 4,
   "metadata": {},
   "outputs": [
    {
     "name": "stdout",
     "output_type": "stream",
     "text": [
      "x_a_N6 =  [1. 1. 1. 1. 1. 1.]\n",
      "x_a_N10 =  [1.         0.9999998  1.00000424 0.99996169 1.0001819  0.9995019\n",
      " 1.00081456 0.99921504 1.00041109 0.99990979]\n"
     ]
    }
   ],
   "source": [
    "# lets try with N = 6\n",
    "N = 6\n",
    "H = buildHilbertMatrix(N)\n",
    "x = np.ones(N)\n",
    "b = H @ x\n",
    "\n",
    "# now we use b to solve for x_a\n",
    "x_a_N6 = np.linalg.solve(H, b)\n",
    "print(\"x_a_N6 = \", x_a_N6)\n",
    "\n",
    "N = 10\n",
    "H = buildHilbertMatrix(N)\n",
    "x = np.ones(N)\n",
    "b = H @ x\n",
    "\n",
    "# now we use b to solve for x_a\n",
    "x_a_N10 = np.linalg.solve(H, b)\n",
    "print(\"x_a_N10 = \", x_a_N10)"
   ]
  },
  {
   "cell_type": "markdown",
   "metadata": {},
   "source": [
    "### Ans:\n",
    "Yes, the matrix is unstable with small pertubation in the input argument. In this case, it can be seen that with N=10 (resp. a larget condition number) impacts the accuracy of solving the system of equations."
   ]
  },
  {
   "cell_type": "markdown",
   "metadata": {},
   "source": [
    "### Question 3"
   ]
  },
  {
   "cell_type": "code",
   "execution_count": 5,
   "metadata": {},
   "outputs": [
    {
     "name": "stdout",
     "output_type": "stream",
     "text": [
      "Infinity norm of A_1:  7.0\n",
      "Infinity norm of A_2:  8.0\n"
     ]
    }
   ],
   "source": [
    "# find the infinity norm of the matrices ==> max row sum\n",
    "A_1 = np.array([[1, 2],\n",
    "              [3, 4]])\n",
    "\n",
    "# infinity norm of A\n",
    "print(\"Infinity norm of A_1: \", np.linalg.norm(A_1, np.inf))\n",
    "\n",
    "A_2 = np.array([[1, 5, 1],\n",
    "                [-1, 2, -3],\n",
    "                [1, -7, 0]])\n",
    "\n",
    "print(\"Infinity norm of A_2: \", np.linalg.norm(A_2, np.inf))"
   ]
  },
  {
   "cell_type": "markdown",
   "metadata": {},
   "source": [
    "## Question 4\n",
    "\n",
    "Find the forward and backward errors and error magnification factor for the given system.\n",
    "\n",
    "Approx. solutions:\n",
    "(a) [-1, 1]\n",
    "(b) [3, -1]\n",
    "(c) [2, -0.5]"
   ]
  },
  {
   "cell_type": "code",
   "execution_count": 6,
   "metadata": {},
   "outputs": [
    {
     "name": "stdout",
     "output_type": "stream",
     "text": [
      "x_corr =  [ 1. -0.]\n"
     ]
    }
   ],
   "source": [
    "# Given Ax = b, find x\n",
    "A = np.array([[1, 2],\n",
    "              [2, 4.01]])\n",
    "b = np.array([1, 2])\n",
    "\n",
    "# solve for x (the correct solution through direct solving)\n",
    "x_corr = np.linalg.solve(A, b)\n",
    "print(\"x_corr = \", x_corr)"
   ]
  },
  {
   "cell_type": "code",
   "execution_count": 7,
   "metadata": {},
   "outputs": [
    {
     "name": "stdout",
     "output_type": "stream",
     "text": [
      "For (a) x_a1 = [-1, 1]\n",
      "Backward error:  0.009999999999999787\n",
      "Forward error:  2.0\n",
      "\n",
      "For (b) x_a2 = [3, -1]\n",
      "Backward error:  0.009999999999999787\n",
      "Forward error:  2.0\n",
      "\n",
      "For (c) x_a3 = [2, -0.5]\n",
      "Backward error:  0.004999999999999893\n",
      "Forward error:  1.0\n"
     ]
    }
   ],
   "source": [
    "## (a) x_a = [-1, 1]\n",
    "x_a1 = np.array([-1, 1])\n",
    "# find the residual vector, r = b - Ax_a\n",
    "r = b - A @ x_a1\n",
    "print(\"For (a) x_a1 = [-1, 1]\")\n",
    "# backward error \n",
    "back_err = np.linalg.norm(r, np.inf)\n",
    "print(\"Backward error: \", back_err)\n",
    "# forward error\n",
    "for_err = np.linalg.norm(x_corr-x_a1, np.inf)\n",
    "print(\"Forward error: \", for_err)\n",
    "print(\"\")\n",
    "\n",
    "\n",
    "## (b) x_a = [3, -1]\n",
    "x_a2 = np.array([3, -1])\n",
    "# find the residual vector, r = b - Ax_a\n",
    "r = b - A @ x_a2\n",
    "print(\"For (b) x_a2 = [3, -1]\")\n",
    "# backward error\n",
    "back_err = np.linalg.norm(r, np.inf)\n",
    "print(\"Backward error: \", back_err)\n",
    "# forward error\n",
    "for_err = np.linalg.norm(x_corr-x_a2, np.inf)\n",
    "print(\"Forward error: \", for_err)\n",
    "print(\"\")\n",
    "\n",
    "## (c) x_a = [2, -0.5]\n",
    "x_a3 = np.array([2, -0.5])\n",
    "# find the residual vector, r = b - Ax_a\n",
    "r = b - A @ x_a3\n",
    "print(\"For (c) x_a3 = [2, -0.5]\")\n",
    "# backward error\n",
    "back_err = np.linalg.norm(r, np.inf)\n",
    "print(\"Backward error: \", back_err)\n",
    "# forward error\n",
    "for_err = np.linalg.norm(x_corr-x_a3, np.inf)\n",
    "print(\"Forward error: \", for_err)"
   ]
  },
  {
   "cell_type": "markdown",
   "metadata": {},
   "source": [
    "## Question 5\n",
    "\n",
    "Modify the func iterEqs to take an additional variable \"A\", which is the matrix of coefficients for the corresponding system of equations, as well as the right-side vector b. Modify the code in a generic  way such that it can generate the update equations based on the entires of A and b, regardless of the num of eq. (assuming is is square).\n",
    "\n",
    "Test the code on the same 3x3 system we looked at in class for a single iteration, by calling the new function iterEqs once.\n",
    "\n",
    "** Don't use the gaussSeidel.py module."
   ]
  },
  {
   "cell_type": "code",
   "execution_count": 8,
   "metadata": {},
   "outputs": [],
   "source": [
    "### original function\n",
    "\n",
    "def iterEqs(x,omega): \n",
    "    x[0] = (1.0 - omega)*x[0] + omega*(4.0 - x[1] + x[2])/3.0\n",
    "    x[1] = (1.0 - omega)*x[1] + omega*(1.0 - 2.0*x[0] - x[2])/4.0\n",
    "    x[2] = (1.0 - omega)*x[2] + omega*(1.0 + x[0] - 2.0*x[1])/5.0\n",
    "    return x"
   ]
  },
  {
   "cell_type": "code",
   "execution_count": 9,
   "metadata": {},
   "outputs": [
    {
     "name": "stdout",
     "output_type": "stream",
     "text": [
      "For relaxation factor, w = 1.00\n",
      "iter1 =  [ 1.33333333 -0.41666667  0.63333333]\n",
      "iter2 =  [ 1.68333333 -0.75        0.83666667]\n",
      "\n",
      "For relaxation factor, w = 1.25\n",
      "iter1 =  [ 1.66666667 -0.72916667  1.03125   ]\n",
      "iter2 =  [ 1.98350694 -1.0671658   1.02164714]\n"
     ]
    }
   ],
   "source": [
    "### updated function\n",
    "def iterEqs_up(x, w, A, b):\n",
    "    \"\"\"\n",
    "    x: initial guess\n",
    "    w: relaxation factor in the SOR method\n",
    "    A: matrix of coefficients ==> has to be a square\n",
    "    b: right-side vector\n",
    "    \"\"\"\n",
    "    # size of matrix, A\n",
    "    N = A.shape[0]\n",
    "    # overwrite x with each iteration\n",
    "    x_up = x.copy().astype(float)\n",
    "\n",
    "    # loop through each row\n",
    "    for i in range(N):\n",
    "        if (i != 0) and (i != N-1):\n",
    "            x_up[i] = (1.0 - w)*x[i] + w* ( (b[i] + np.inner(A[i, :i], -1*x_up[:i]) + np.inner(A[i, i+1:], -1*x_up[i+1:])) ) / A[i, i]\n",
    "        elif i == 0:\n",
    "            x_up[i] = (1.0 - w)*x[i] + w* ( (b[i] + np.inner(A[i, 1:], -1*x_up[1:])) ) / A[i, i]\n",
    "        elif i == N-1:\n",
    "            x_up[i] = (1.0 - w)*x[i] + w* ( (b[i] + np.inner(A[i, :i], -1*x_up[:i])) ) / A[i, i]\n",
    "    return x_up\n",
    "\n",
    "# test system\n",
    "A = np.array([[3, 1, -1],\n",
    "              [2, 4, 1],\n",
    "                [-1, 2, 5]])\n",
    "b = np.array([4, 1, 1])\n",
    "# initial guess\n",
    "x0 = np.array([0, 0, 0])\n",
    "\n",
    "print(\"For relaxation factor, w = 1.00\")\n",
    "# relaxation factor\n",
    "w = 1.00\n",
    "# number of iterations\n",
    "iter1 = iterEqs_up(x0, w, A, b)\n",
    "iter2 = iterEqs_up(iter1, w, A, b)\n",
    "print(\"iter1 = \", iter1)\n",
    "print(\"iter2 = \", iter2)\n",
    "print(\"\")\n",
    "\n",
    "print(\"For relaxation factor, w = 1.25\")\n",
    "# relaxation factor\n",
    "w = 1.25\n",
    "# number of iterations\n",
    "iter1 = iterEqs_up(x0, w, A, b)\n",
    "iter2 = iterEqs_up(iter1, w, A, b)\n",
    "print(\"iter1 = \", iter1)\n",
    "print(\"iter2 = \", iter2)"
   ]
  }
 ],
 "metadata": {
  "kernelspec": {
   "display_name": "pce_env",
   "language": "python",
   "name": "python3"
  },
  "language_info": {
   "codemirror_mode": {
    "name": "ipython",
    "version": 3
   },
   "file_extension": ".py",
   "mimetype": "text/x-python",
   "name": "python",
   "nbconvert_exporter": "python",
   "pygments_lexer": "ipython3",
   "version": "3.10.11"
  },
  "orig_nbformat": 4
 },
 "nbformat": 4,
 "nbformat_minor": 2
}
